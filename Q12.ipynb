{
 "cells": [
  {
   "cell_type": "markdown",
   "metadata": {},
   "source": [
    "\n",
    "# 平方根の数字\n",
    "---\n",
    "\n",
    "平方根を小数で表したときに,0～9までの数字が最も早くすべて現れる最小の整数を求めてください．ただし,ここでは正の平方根のみを対象とする．整数部分を含む場合と,小数部分のみの場合のそれぞれについて求めてください.\n"
   ]
  },
  {
   "cell_type": "code",
   "execution_count": 3,
   "metadata": {},
   "outputs": [],
   "source": [
    "import math\n",
    "\n",
    "def ck_match(string):\n",
    "    for x in range(10):\n",
    "        if not str(x) in string:\n",
    "            return False\n",
    "    return True"
   ]
  },
  {
   "cell_type": "code",
   "execution_count": 15,
   "metadata": {},
   "outputs": [
    {
     "name": "stdout",
     "output_type": "stream",
     "text": [
      "1362\n"
     ]
    }
   ],
   "source": [
    "n = 2\n",
    "while not ck_match(str(math.sqrt(n)).replace(\".\",\"\")[:10]):\n",
    "    n += 1\n",
    "\n",
    "print(n)"
   ]
  },
  {
   "cell_type": "code",
   "execution_count": 13,
   "metadata": {},
   "outputs": [
    {
     "name": "stdout",
     "output_type": "stream",
     "text": [
      "143\n"
     ]
    }
   ],
   "source": [
    "n = 2\n",
    "while not ck_match(str(math.sqrt(n)).split(\".\")[1][:10]):\n",
    "    n += 1\n",
    "\n",
    "print(n)"
   ]
  }
 ],
 "metadata": {
  "kernelspec": {
   "display_name": "Python 3",
   "language": "python",
   "name": "python3"
  },
  "language_info": {
   "codemirror_mode": {
    "name": "ipython",
    "version": 3
   },
   "file_extension": ".py",
   "mimetype": "text/x-python",
   "name": "python",
   "nbconvert_exporter": "python",
   "pygments_lexer": "ipython3",
   "version": "3.6.4"
  }
 },
 "nbformat": 4,
 "nbformat_minor": 2
}
