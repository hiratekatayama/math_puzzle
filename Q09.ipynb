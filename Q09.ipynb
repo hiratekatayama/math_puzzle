{
 "cells": [
  {
   "cell_type": "markdown",
   "metadata": {},
   "source": [
    "# つりあわない男女\n",
    "----\n",
    "\n",
    "男性20人、女性10人がランダムに到着して行列を作る。ある位置で区切って行列を2つのグループに分ける時、どこで区切っても2つのグループのいずれかで男女の数が異なってしまうような到着順は何通りあるか。"
   ]
  },
  {
   "cell_type": "code",
   "execution_count": 38,
   "metadata": {},
   "outputs": [
    {
     "name": "stdout",
     "output_type": "stream",
     "text": [
      "1 ('F', 'M')\n",
      "2 ('F', 'M', 'F')\n",
      "1 ('F', 'F')\n",
      "2 ('M', 'M', 'F')\n",
      "1 ('F', 'F')\n",
      "2 ('M', 'F', 'M')\n",
      "1 ('F', 'F')\n",
      "2 ('F', 'M', 'M')\n",
      "1 ('M', 'F')\n",
      "2 ('F', 'F', 'M')\n",
      "1 ('F', 'M')\n",
      "2 ('F', 'F', 'M')\n",
      "1 ('M', 'M')\n",
      "2 ('F', 'F', 'F')\n",
      "1 ('M', 'F')\n",
      "2 ('F', 'M', 'F')\n",
      "1 ('M', 'F')\n",
      "2 ('M', 'F', 'F')\n",
      "1 ('F', 'M')\n",
      "2 ('M', 'F', 'F')\n"
     ]
    },
    {
     "data": {
      "text/plain": [
       "10"
      ]
     },
     "execution_count": 38,
     "metadata": {},
     "output_type": "execute_result"
    }
   ],
   "source": [
    "import itertools\n",
    "p = list(\"MMFFF\")\n",
    "r = len(p)\n",
    "cnt = 0\n",
    "\n",
    "\n",
    "for q in set(itertools.permutations(p,r)):\n",
    "    for n in range(2,len(p)-2):\n",
    "        former = q[:n]\n",
    "        latter = q[n:]\n",
    "        if former.count(\"M\") != former.count(\"F\") or latter.count(\"F\") != latter.count(\"M\"):\n",
    "            cnt += 1\n",
    "            print(\"1\",former)\n",
    "            print(\"2\",latter)\n",
    "cnt"
   ]
  },
  {
   "cell_type": "code",
   "execution_count": 43,
   "metadata": {},
   "outputs": [
    {
     "name": "stdout",
     "output_type": "stream",
     "text": [
      "4292146\n"
     ]
    }
   ],
   "source": [
    "def path(b, g):\n",
    "    if b == g:\n",
    "        return 0\n",
    "    elif b - g == 9:\n",
    "        return path(b-1, g)\n",
    "    elif b == 0 or g == 0:\n",
    "        return 1\n",
    "    else:\n",
    "        return path(b-1, g) + path(b, g-1)\n",
    "\n",
    "print (path(20,10))"
   ]
  }
 ],
 "metadata": {
  "kernelspec": {
   "display_name": "Python 3",
   "language": "python",
   "name": "python3"
  },
  "language_info": {
   "codemirror_mode": {
    "name": "ipython",
    "version": 3
   },
   "file_extension": ".py",
   "mimetype": "text/x-python",
   "name": "python",
   "nbconvert_exporter": "python",
   "pygments_lexer": "ipython3",
   "version": "3.6.4"
  }
 },
 "nbformat": 4,
 "nbformat_minor": 2
}
