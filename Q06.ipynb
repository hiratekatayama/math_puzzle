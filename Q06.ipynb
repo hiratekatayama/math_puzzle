{
 "cells": [
  {
   "cell_type": "markdown",
   "metadata": {},
   "source": [
    "# Q6\n",
    "## メモ化"
   ]
  },
  {
   "cell_type": "code",
   "execution_count": 285,
   "metadata": {},
   "outputs": [],
   "source": [
    "import sys\n",
    "\n",
    "def evenumber(n):\n",
    "    n = int(n/2)\n",
    "    return n\n",
    "    \n",
    "def oddnumber(n):\n",
    "    n = n * 3 + 1\n",
    "    return n"
   ]
  },
  {
   "cell_type": "code",
   "execution_count": 282,
   "metadata": {},
   "outputs": [],
   "source": [
    "def num(a,m): \n",
    "    if 1 < a and a < m or m < a:\n",
    "        if a%2 == 0:\n",
    "            b = evenumber(a)\n",
    "            num(b,m)\n",
    "        else:\n",
    "            b = oddnumber(a)\n",
    "            num(b,m)\n",
    "\n",
    "    elif a == m:\n",
    "        fib_memo[m] = m \n",
    "fib_memo = {}\n",
    "def  sample(n):\n",
    "    na= n * 3 + 1\n",
    "    num(na,n)"
   ]
  },
  {
   "cell_type": "code",
   "execution_count": 283,
   "metadata": {},
   "outputs": [],
   "source": [
    "a = []\n",
    "for i in range(1,10001):\n",
    "    if i % 2 == 0:\n",
    "        a.append(i)"
   ]
  },
  {
   "cell_type": "code",
   "execution_count": 284,
   "metadata": {},
   "outputs": [
    {
     "name": "stdout",
     "output_type": "stream",
     "text": [
      "{2: 2, 4: 4, 8: 8, 10: 10, 14: 14, 16: 16, 20: 20, 22: 22, 26: 26, 40: 40, 44: 44, 52: 52, 106: 106, 184: 184, 206: 206, 244: 244, 274: 274, 322: 322, 526: 526, 650: 650, 668: 668, 790: 790, 866: 866, 976: 976, 1154: 1154, 1300: 1300, 1438: 1438, 1732: 1732, 1780: 1780, 1822: 1822, 2308: 2308, 2734: 2734, 3238: 3238, 7288: 7288}\n"
     ]
    }
   ],
   "source": [
    "for i in a:\n",
    "    sample(i)\n",
    "print(fib_memo)"
   ]
  },
  {
   "cell_type": "code",
   "execution_count": 39,
   "metadata": {},
   "outputs": [],
   "source": [
    "fib_memo = {}\n",
    "def fib(n):\n",
    "    if n < 3: return 1\n",
    "    if n not in fib_memo:\n",
    "        fib_memo[n] = fib(n-1) + fib(n-2)\n",
    "    return fib_memo[n]"
   ]
  }
 ],
 "metadata": {
  "kernelspec": {
   "display_name": "Python 3",
   "language": "python",
   "name": "python3"
  },
  "language_info": {
   "codemirror_mode": {
    "name": "ipython",
    "version": 3
   },
   "file_extension": ".py",
   "mimetype": "text/x-python",
   "name": "python",
   "nbconvert_exporter": "python",
   "pygments_lexer": "ipython3",
   "version": "3.6.4"
  }
 },
 "nbformat": 4,
 "nbformat_minor": 2
}
