{
 "cells": [
  {
   "cell_type": "markdown",
   "metadata": {},
   "source": [
    " # 優秀な掃除ロボット\n",
    " ----------------------\n",
    "多くのメーカから発売されている掃除ロボット.忙しい私たちにとって,家事を助けてくれるロボットはとても便利です.一方で,同じところを何度も往復するなどその動きが理解できない頃も少なくありません.\n",
    "ここでは,同じ場所を通らないロボットを考えます.このロボットは,前後左右の未移動することができます."
   ]
  },
  {
   "cell_type": "markdown",
   "metadata": {},
   "source": [
    " ## 問題\n",
    " ---\n",
    " このロボットが12回移動するとき,考えられる移動経路のパターンは何通りか答えろ."
   ]
  },
  {
   "cell_type": "code",
   "execution_count": 21,
   "metadata": {},
   "outputs": [
    {
     "name": "stdout",
     "output_type": "stream",
     "text": [
      "[[0, 0]]\n",
      "[[0, 0], [0, 1]]\n",
      "[[0, 0], [0, 1]]\n",
      "[[0, 0], [0, 1]]\n",
      "[[0, 0]]\n",
      "[[0, 0], [0, -1]]\n",
      "[[0, 0], [0, -1]]\n",
      "[[0, 0], [0, -1]]\n",
      "[[0, 0]]\n",
      "[[0, 0], [1, 0]]\n",
      "[[0, 0], [1, 0]]\n",
      "[[0, 0], [1, 0]]\n",
      "[[0, 0]]\n",
      "[[0, 0], [-1, 0]]\n",
      "[[0, 0], [-1, 0]]\n",
      "[[0, 0], [-1, 0]]\n"
     ]
    },
    {
     "data": {
      "text/plain": [
       "12"
      ]
     },
     "execution_count": 21,
     "metadata": {},
     "output_type": "execute_result"
    }
   ],
   "source": [
    "N = 2\n",
    "\n",
    "def move(log):\n",
    "    if len(log) == N+1:\n",
    "        return 1\n",
    "    cnt = 0\n",
    "    \n",
    "    for d in [[0,1],[0,-1],[1,0],[-1,0]]:\n",
    "        next_pos = [log[-1][0] + d[0], log[-1][1] + d[1]]\n",
    "        if next_pos not in log:\n",
    "            print(log)\n",
    "            cnt = cnt + move(log + [next_pos])\n",
    "    return cnt\n",
    "            \n",
    "move([[0,0]])"
   ]
  }
 ],
 "metadata": {
  "kernelspec": {
   "display_name": "Python 3",
   "language": "python",
   "name": "python3"
  },
  "language_info": {
   "codemirror_mode": {
    "name": "ipython",
    "version": 3
   },
   "file_extension": ".py",
   "mimetype": "text/x-python",
   "name": "python",
   "nbconvert_exporter": "python",
   "pygments_lexer": "ipython3",
   "version": "3.6.4"
  }
 },
 "nbformat": 4,
 "nbformat_minor": 2
}
