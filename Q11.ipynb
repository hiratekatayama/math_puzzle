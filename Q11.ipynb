{
 "cells": [
  {
   "cell_type": "markdown",
   "metadata": {},
   "source": [
    "# フィボナッチ数列\n",
    "---\n",
    "\n",
    "フィボナッチ数列のうち，各桁の数字を足した数で割り切れる数を，以下の例に続けて小さいほうから5個求めなさい"
   ]
  },
  {
   "cell_type": "code",
   "execution_count": 110,
   "metadata": {},
   "outputs": [],
   "source": [
    "from functools import lru_cache\n",
    "\n",
    "@lru_cache(maxsize=1000)\n",
    "def fib(n):\n",
    "    if n<2:\n",
    "        return n\n",
    "    else:\n",
    "        return fib(n-1) + fib(n-2)"
   ]
  },
  {
   "cell_type": "code",
   "execution_count": 112,
   "metadata": {},
   "outputs": [
    {
     "name": "stdout",
     "output_type": "stream",
     "text": [
      "fib 144\n",
      "fib 2584\n",
      "fib 14930352\n",
      "fib 86267571272\n",
      "fib 498454011879264\n"
     ]
    }
   ],
   "source": [
    "num = 12\n",
    "cnt = 0\n",
    "while cnt < 5:\n",
    "    sum = 0\n",
    "    for j in range(len(str(fib(num)))):\n",
    "        sum += int(str(fib(num))[j])\n",
    "    \n",
    "    if (fib(num)/sum).is_integer() == True:\n",
    "        cnt += 1\n",
    "        print(\"fib\",fib(num))\n",
    "    num += 1"
   ]
  }
 ],
 "metadata": {
  "kernelspec": {
   "display_name": "Python 3",
   "language": "python",
   "name": "python3"
  },
  "language_info": {
   "codemirror_mode": {
    "name": "ipython",
    "version": 3
   },
   "file_extension": ".py",
   "mimetype": "text/x-python",
   "name": "python",
   "nbconvert_exporter": "python",
   "pygments_lexer": "ipython3",
   "version": "3.6.4"
  }
 },
 "nbformat": 4,
 "nbformat_minor": 2
}
