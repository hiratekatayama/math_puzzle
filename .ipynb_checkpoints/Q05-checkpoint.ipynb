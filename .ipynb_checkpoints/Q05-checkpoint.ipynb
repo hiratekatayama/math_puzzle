{
 "cells": [
  {
   "cell_type": "code",
   "execution_count": 7,
   "metadata": {},
   "outputs": [
    {
     "name": "stdout",
     "output_type": "stream",
     "text": [
      " fin: 500 円 2 枚\n",
      "fin2: 500 円 1 枚 100 円 5 枚\n",
      "fin2: 500 円 1 枚 50 円 10 枚\n",
      " fin: 100 円 10 枚\n",
      "fin2: 100 円 9 枚 50 円 2 枚\n",
      "fin2: 100 円 8 枚 50 円 4 枚\n",
      "fin2: 100 円 7 枚 50 円 6 枚\n",
      "fin2: 100 円 6 枚 50 円 8 枚\n",
      "fin2: 100 円 5 枚 50 円 10 枚\n"
     ]
    }
   ],
   "source": [
    "n = 0\n",
    "a = 0\n",
    "coin = [500,100,50,10]\n",
    "for i in range(len(coin)):\n",
    "    n = 1000/coin[i]\n",
    "    for j in range(int(n)):\n",
    "        money = 1000\n",
    "        money = money - coin[i]*(int(n)-j)\n",
    "        if money > 0:\n",
    "            for k in range(i+1,len(coin)):\n",
    "                c = 0\n",
    "                b = int(money / coin[k])\n",
    "                d = 0\n",
    "                if int(n)-j + b < 16:\n",
    "                    c = money - b*coin[k]\n",
    "                    if c == 0:\n",
    "                        print(\"fin2:\",coin[i],\"円\",int(n)-j,\"枚\",coin[k],\"円\",b,\"枚\")\n",
    "                    d = money - (b-1)*coin[k]\n",
    "                    for l in range(i+2,len(coin)):\n",
    "                        e = 0\n",
    "                        f = 0\n",
    "                        e = int(money/coin[l])\n",
    "                        if int(n)-j + e < 16:\n",
    "\n",
    "                            if \n",
    "        else:\n",
    "            if int(n)-j < 16:\n",
    "                print(\" fin:\",coin[i],\"円\",int(n)-j,\"枚\")"
   ]
  },
  {
   "cell_type": "code",
   "execution_count": 71,
   "metadata": {},
   "outputs": [],
   "source": [
    "def a(m,oturi,oturi_sum,coin):\n",
    "    oturi_sum += oturi\n",
    "    n = 0\n",
    "    coin += 1\n",
    "    if oturi_sum == m and coin < 16:\n",
    "        print(\"枚数:\",coin)\n",
    "        b(n)\n",
    "    elif oturi_sum < m and coin < 16: \n",
    "        if oturi >= 500:\n",
    "            a(1000,500,oturi_sum=oturi_sum,coin=coin)\n",
    "        if oturi >= 100:\n",
    "            a(1000,100,oturi_sum=oturi_sum,coin=coin)\n",
    "        if oturi >= 50:\n",
    "            a(1000,50,oturi_sum=oturi_sum,coin=coin)\n",
    "        if oturi >= 10:\n",
    "            a(1000,10,oturi_sum=oturi_sum,coin=coin)\n",
    "            \n",
    "            \n",
    "def b(c):\n",
    "    c +=1\n",
    "    print(\"合計:\",c)"
   ]
  },
  {
   "cell_type": "code",
   "execution_count": 72,
   "metadata": {},
   "outputs": [
    {
     "name": "stdout",
     "output_type": "stream",
     "text": [
      "枚数: 2\n",
      "合計: 1\n",
      "枚数: 6\n",
      "合計: 1\n",
      "枚数: 7\n",
      "合計: 1\n",
      "枚数: 11\n",
      "合計: 1\n",
      "枚数: 15\n",
      "合計: 1\n",
      "枚数: 8\n",
      "合計: 1\n",
      "枚数: 12\n",
      "合計: 1\n",
      "枚数: 9\n",
      "合計: 1\n",
      "枚数: 13\n",
      "合計: 1\n",
      "枚数: 10\n",
      "合計: 1\n",
      "枚数: 14\n",
      "合計: 1\n",
      "枚数: 11\n",
      "合計: 1\n",
      "枚数: 15\n",
      "合計: 1\n"
     ]
    }
   ],
   "source": [
    "a(1000,500,0,0)"
   ]
  }
 ],
 "metadata": {
  "kernelspec": {
   "display_name": "Python 3",
   "language": "python",
   "name": "python3"
  },
  "language_info": {
   "codemirror_mode": {
    "name": "ipython",
    "version": 3
   },
   "file_extension": ".py",
   "mimetype": "text/x-python",
   "name": "python",
   "nbconvert_exporter": "python",
   "pygments_lexer": "ipython3",
   "version": "3.6.4"
  }
 },
 "nbformat": 4,
 "nbformat_minor": 2
}
