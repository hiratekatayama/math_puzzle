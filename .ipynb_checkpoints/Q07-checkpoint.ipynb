{
 "cells": [
  {
   "cell_type": "markdown",
   "metadata": {},
   "source": [
    "# 規則性に気付く\n",
    "\n",
    "---\n",
    "年月日をYYYYMMDDの8桁の整数で表したとき、これらを２進数に変換して逆から並べ、さらに１０進数戻したとき、元の日付と同じ日付になるものを探してください。\n",
    "(期間は、1964年10月10日から、2020年7月２4日)"
   ]
  },
  {
   "cell_type": "code",
   "execution_count": 2,
   "metadata": {},
   "outputs": [
    {
     "name": "stdout",
     "output_type": "stream",
     "text": [
      "19660713\n",
      "19660905\n",
      "19770217\n",
      "19950617\n",
      "20020505\n",
      "20130201\n"
     ]
    }
   ],
   "source": [
    "import datetime\n",
    "a = datetime.date(1964,10,10)\n",
    "b = datetime.date(2020,7,24)\n",
    "x = a\n",
    "a_list = []\n",
    "while x < b:\n",
    "    x = x + datetime.timedelta(days=1)\n",
    "    y = x.year\n",
    "    m = x.month\n",
    "    d = x.day\n",
    "    a_time = format(y * 10000 + m * 100 + d, 'b')\n",
    "    if a_time == a_time[::-1]:\n",
    "        a_list.append(a_time)\n",
    "for i in a_list:\n",
    "    print(int(i,2))"
   ]
  }
 ],
 "metadata": {
  "kernelspec": {
   "display_name": "Python 3",
   "language": "python",
   "name": "python3"
  },
  "language_info": {
   "codemirror_mode": {
    "name": "ipython",
    "version": 3
   },
   "file_extension": ".py",
   "mimetype": "text/x-python",
   "name": "python",
   "nbconvert_exporter": "python",
   "pygments_lexer": "ipython3",
   "version": "3.6.4"
  }
 },
 "nbformat": 4,
 "nbformat_minor": 2
}
