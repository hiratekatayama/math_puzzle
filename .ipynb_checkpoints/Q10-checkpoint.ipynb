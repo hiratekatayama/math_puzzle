{
 "cells": [
  {
   "cell_type": "markdown",
   "metadata": {},
   "source": [
    "# ルーレットの最大化\n",
    "\n",
    "---\n",
    "\n",
    "2 ≦ n ≦ 36のそれぞれのnについて，連続するn個の数の和が最大になる場合を求め，ヨーロピアンスタイルでの和がアメリカンスタイルでの和よりも小さくなるnがいくつあるかを求めてください."
   ]
  },
  {
   "cell_type": "code",
   "execution_count": 1,
   "metadata": {},
   "outputs": [],
   "source": [
    "European = [0,32,15,19,4,21,2,25,17,34,6,27,13,36,11,30,8,23,10,5,24,16,33,1,20,14,31,9,22,18,29,7,28,12,35,3,26]\n",
    "American = [0,28,9,26,30,11,7,20,32,17,5,22,34,15,3,24,36,13,1,00,27,10,25,29,12,8,19,31,18,6,21,33,16,4,23,35,14,2]"
   ]
  },
  {
   "cell_type": "code",
   "execution_count": 29,
   "metadata": {},
   "outputs": [],
   "source": [
    "def European_Sum(m, n):\n",
    "    Sum = 0\n",
    "    for s in range(m, m + n):\n",
    "        if s >= 37:\n",
    "            s -= 37\n",
    "        Sum += European[s]\n",
    "    return Sum\n",
    "\n",
    "def European_Max(n):\n",
    "    Max_sum = 0\n",
    "    for m in range(0,37):\n",
    "        if Max_sum < European_Sum(m,n):\n",
    "            Max_sum = European_Sum(m,n)\n",
    "    return Max_sum"
   ]
  },
  {
   "cell_type": "code",
   "execution_count": 30,
   "metadata": {},
   "outputs": [],
   "source": [
    "def American_Sum(m, n):\n",
    "    Sum = 0\n",
    "    for s in range (m, m + n):\n",
    "        if s >= 38:\n",
    "            s -= 38\n",
    "        Sum += American[s]\n",
    "    return Sum\n",
    "\n",
    "def American_Max(n):\n",
    "    Max_sum = 0\n",
    "    for m in range(0,38):\n",
    "        if Max_sum < American_Sum(m, n):\n",
    "            Max_sum = American_Sum(m, n)\n",
    "    return Max_sum"
   ]
  },
  {
   "cell_type": "code",
   "execution_count": 33,
   "metadata": {},
   "outputs": [
    {
     "name": "stdout",
     "output_type": "stream",
     "text": [
      "9\n"
     ]
    }
   ],
   "source": [
    "cnt = 0\n",
    "for n in range(2, 36):\n",
    "    if European_Max(n) < American_Max(n):\n",
    "        cnt += 1\n",
    "print(cnt)"
   ]
  }
 ],
 "metadata": {
  "kernelspec": {
   "display_name": "Python 3",
   "language": "python",
   "name": "python3"
  },
  "language_info": {
   "codemirror_mode": {
    "name": "ipython",
    "version": 3
   },
   "file_extension": ".py",
   "mimetype": "text/x-python",
   "name": "python",
   "nbconvert_exporter": "python",
   "pygments_lexer": "ipython3",
   "version": "3.6.4"
  }
 },
 "nbformat": 4,
 "nbformat_minor": 2
}
