{
 "cells": [
  {
   "cell_type": "markdown",
   "metadata": {},
   "source": [
    "1～100までの番号が書かれた100枚のカードが順番に並べられています。\n",
    "最初、すべてのカードは裏返しの状態で置かれています。\n",
    "ある人が2番のカードから、１つおきにカードを裏返していきます。\n",
    "すると、2, 4, 6, … , 100番のカードが表を向いています。\n",
    "次に、別の人が、3番のカードから2つおきにカードを裏返していきます。\n",
    "（裏向きのカードは表を向き、表向いているカードは裏返しされます。）\n",
    "また、別の人が、4番のカードから3つおきに、カードを裏返してきます。\n",
    "このようにn番目のカードからn-1つおきにカードを裏返す操作を、\n",
    "どのカードの向きも変わらなくなるまで続けたとします。\n",
    "裏向きになっているカードの番号をすべて求めてください。"
   ]
  },
  {
   "cell_type": "code",
   "execution_count": 59,
   "metadata": {},
   "outputs": [
    {
     "name": "stdout",
     "output_type": "stream",
     "text": [
      "1\n",
      "4\n",
      "9\n",
      "16\n",
      "25\n",
      "36\n",
      "49\n",
      "64\n",
      "81\n",
      "100\n"
     ]
    }
   ],
   "source": [
    "n = 100\n",
    "pa = []\n",
    "pj = []\n",
    "for i in range(100):\n",
    "    pj = np.append(pj,0)\n",
    "for i in range(1,101):\n",
    "    pa = np.append(pa,i)\n",
    "for i in range(2,len(pa)):\n",
    "    for j in range(i,len(pa),i):\n",
    "        pj[j-1] += 1\n",
    "for i in range(len(pj)):\n",
    "    if pj[i] % 2 == 0:\n",
    "        print(int(pa[i]))"
   ]
  },
  {
   "cell_type": "code",
   "execution_count": 89,
   "metadata": {},
   "outputs": [
    {
     "name": "stdout",
     "output_type": "stream",
     "text": [
      "1\n",
      "4\n",
      "9\n",
      "16\n",
      "25\n",
      "36\n",
      "49\n",
      "64\n",
      "81\n",
      "100\n"
     ]
    }
   ],
   "source": [
    "a = []\n",
    "for i in range(100):\n",
    "    a = np.append(a,True)\n",
    "for i in range(1, 101):\n",
    "    j = i - 1\n",
    "    while j < 100:\n",
    "        a[j] = not a[j]\n",
    "        j += i\n",
    "for k in range(100):\n",
    "    if a[k] == False:\n",
    "        print(k+1)"
   ]
  },
  {
   "cell_type": "code",
   "execution_count": 94,
   "metadata": {},
   "outputs": [
    {
     "name": "stdout",
     "output_type": "stream",
     "text": [
      "[1, 4, 9, 16, 25, 36, 49, 64, 81, 100]\n"
     ]
    }
   ],
   "source": [
    "n = [True]*100\n",
    "for i in range(1,101):\n",
    "    j = i - 1\n",
    "    while j < 100:\n",
    "        n[j] = not n[j]\n",
    "        j += i\n",
    "        \n",
    "print([k+1 for k in range(100) if n[k] == False])"
   ]
  }
 ],
 "metadata": {
  "kernelspec": {
   "display_name": "Python 3",
   "language": "python",
   "name": "python3"
  },
  "language_info": {
   "codemirror_mode": {
    "name": "ipython",
    "version": 3
   },
   "file_extension": ".py",
   "mimetype": "text/x-python",
   "name": "python",
   "nbconvert_exporter": "python",
   "pygments_lexer": "ipython3",
   "version": "3.6.4"
  }
 },
 "nbformat": 4,
 "nbformat_minor": 2
}
