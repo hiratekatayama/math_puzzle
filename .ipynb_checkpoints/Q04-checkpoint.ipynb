{
 "cells": [
  {
   "cell_type": "code",
   "execution_count": 3,
   "metadata": {},
   "outputs": [
    {
     "data": {
      "text/plain": [
       "'長さn[cmの1本の棒を1[cm]単位に切り分けることを考えます。\\nただし、1本の棒を一度に切ることができるのは1人だけです。 \\n切り分けられた棒が3本あれば、同時に3人で切ることができます。 \\n最大m人の人がいるとき、最短何回で切り分けられるかを求めてください。'"
      ]
     },
     "execution_count": 3,
     "metadata": {},
     "output_type": "execute_result"
    }
   ],
   "source": [
    "\"\"\"長さn[cmの1本の棒を1[cm]単位に切り分けることを考えます。\n",
    "ただし、1本の棒を一度に切ることができるのは1人だけです。 \n",
    "切り分けられた棒が3本あれば、同時に3人で切ることができます。 \n",
    "最大m人の人がいるとき、最短何回で切り分けられるかを求めてください。\"\"\""
   ]
  },
  {
   "cell_type": "code",
   "execution_count": 20,
   "metadata": {},
   "outputs": [
    {
     "name": "stdout",
     "output_type": "stream",
     "text": [
      "20\n",
      "1 10\n",
      "10\n",
      "1 5\n",
      "5\n",
      "3 5\n"
     ]
    }
   ],
   "source": [
    "n = 20\n",
    "m = 3\n",
    "cnt = 0\n",
    "sa = 1\n",
    "\n",
    "while n > 1:\n",
    "    print(n)\n",
    "    if n % 2 == 0:\n",
    "        n =  int(n / 2)\n",
    "        cnt += 1\n",
    "        sa *= 2\n",
    "        print(1,n)\n",
    "        if sa >= 4:\n",
    "            sa = 1\n",
    "            if n % 2 == 0:\n",
    "                n = n / 2\n",
    "                cnt += 2\n",
    "                sa *= 2\n",
    "                print(2,sa)\n",
    "                \n",
    "    else:\n",
    "        print(3,n)\n",
    "        break"
   ]
  },
  {
   "cell_type": "code",
   "execution_count": 2,
   "metadata": {},
   "outputs": [],
   "source": [
    "def dep(m,n):\n",
    "    current = 1\n",
    "    t = 0\n",
    "    c = 1\n",
    "    while current < n:\n",
    "        if c < m:\n",
    "            current = current + c\n",
    "            t += 1\n",
    "            c += 1\n",
    "        else:\n",
    "            current = current + m\n",
    "            t += 1\n",
    "    return t\n",
    "#深さ優先探索と幅優先探索のコードが分からない"
   ]
  },
  {
   "cell_type": "code",
   "execution_count": 4,
   "metadata": {},
   "outputs": [
    {
     "data": {
      "text/plain": [
       "8"
      ]
     },
     "execution_count": 4,
     "metadata": {},
     "output_type": "execute_result"
    }
   ],
   "source": [
    "dep(3,20)"
   ]
  }
 ],
 "metadata": {
  "kernelspec": {
   "display_name": "Python 3",
   "language": "python",
   "name": "python3"
  },
  "language_info": {
   "codemirror_mode": {
    "name": "ipython",
    "version": 3
   },
   "file_extension": ".py",
   "mimetype": "text/x-python",
   "name": "python",
   "nbconvert_exporter": "python",
   "pygments_lexer": "ipython3",
   "version": "3.6.4"
  }
 },
 "nbformat": 4,
 "nbformat_minor": 2
}
