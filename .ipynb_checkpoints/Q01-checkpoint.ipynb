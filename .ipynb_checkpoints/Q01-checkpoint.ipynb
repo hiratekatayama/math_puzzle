{
 "cells": [
  {
   "cell_type": "code",
   "execution_count": 3,
   "metadata": {},
   "outputs": [],
   "source": [
    "import re\n",
    "import numpy as np"
   ]
  },
  {
   "cell_type": "code",
   "execution_count": 4,
   "metadata": {},
   "outputs": [
    {
     "name": "stdout",
     "output_type": "stream",
     "text": [
      "585\n"
     ]
    }
   ],
   "source": [
    "n = 11\n",
    "\n",
    "while True:\n",
    "    if str(n) == str(n)[::-1]\\\n",
    "    and str(format(n, 'b')) == str(format(n, 'b'))[::-1]\\\n",
    "    and str(format(n, 'o')) == str(format(n, 'o'))[::-1]:\n",
    "        print(n)\n",
    "        break\n",
    "    n += 2"
   ]
  }
 ],
 "metadata": {
  "kernelspec": {
   "display_name": "Python 3",
   "language": "python",
   "name": "python3"
  },
  "language_info": {
   "codemirror_mode": {
    "name": "ipython",
    "version": 3
   },
   "file_extension": ".py",
   "mimetype": "text/x-python",
   "name": "python",
   "nbconvert_exporter": "python",
   "pygments_lexer": "ipython3",
   "version": "3.6.4"
  }
 },
 "nbformat": 4,
 "nbformat_minor": 2
}
